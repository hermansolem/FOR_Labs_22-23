{
  "cells": [
    {
      "cell_type": "markdown",
      "metadata": {
        "id": "view-in-github",
        "colab_type": "text"
      },
      "source": [
        "<a href=\"https://colab.research.google.com/github/hermansolem/FOR_Labs_22-23/blob/master/lab3/lab3-sensitivityanalysis.ipynb\" target=\"_parent\"><img src=\"https://colab.research.google.com/assets/colab-badge.svg\" alt=\"Open In Colab\"/></a>"
      ]
    },
    {
      "cell_type": "markdown",
      "metadata": {
        "id": "a0nvt3irf5-Q"
      },
      "source": [
        "# Lab 3, part I: sensitivity analysis\n",
        "\n",
        "This lab focuses on sensitivity analysis. After solving a problem with three constraints and four variables, we will change the problem slightly and re-solve it to evaluate how the solution and the objective function change. Then we'll use the problem's dual variables and reduced costs to arrive at the same result.\n",
        "\n",
        "Consider the product mix problem: A factory produces 4 types of perfume by mixing 5 ingredients. Denote as $P=\\{1,2,3,4\\}$ the set of perfumes, and as $I=\\{1,2,3,4,5\\}$ the set of ingredients. The retail price for each liter of perfume $p\\in P$ is $c_p$, defined in the table below:\n",
        "\n",
        "|Perfume | 1 | 2 | 3 | 4 |\n",
        "|--------|---|---|---|---|\n",
        "|Retail price  |300|255|260|390|\n",
        "\n",
        "One liter of perfume $p$ requires a quantity $a_{ip}$ of the ingredient $i$, also expressed in liters, as specified below:\n",
        "\n",
        "|Ingredient\\Perfume|1|2|3|4|\n",
        "|-|-|-|-|-|\n",
        "|1|0.01|0.05|0.07|0.04|\n",
        "|2|0.34|0.45|0.36|0.51|\n",
        "|3|0.08|0.06|0.12|0.12|\n",
        "|4|0.55|0.35|0.29|0.32|\n",
        "|5|0.02|0.09|0.16|0.01|\n",
        "\n",
        "There is a finite amount (in liters) of each ingredient expressed by $b_i$, for all $i\\in I$ and defined in the following table:\n",
        "\n",
        "|Ingredient|1|2|3|4|5|\n",
        "|----------|-|-|-|-|-|\n",
        "|Availability|30|400|90|450|70|\n",
        "\n",
        "Here are the tasks for this exercise:\n",
        "\n",
        "1. Determine the amount of perfume to produce for each type in order to maximize the total revenue;\n",
        "2. What could allow us to increase the total profit without changing the retail price $c_p$ and the percentage $a_{ip}$?\n",
        "3. Find what constraint(s) are the most restrictive by changing one of the input parameters $b_i$;\n",
        "4. Are all perfumes produced? If any of them is not produced, can we increase its retail price so that it is worth to produce it? By how much?"
      ]
    },
    {
      "cell_type": "code",
      "execution_count": 2,
      "metadata": {
        "id": "S6N4tGyQf5-S",
        "outputId": "2fdb1dc7-7437-43e9-e87e-412af327de08",
        "colab": {
          "base_uri": "https://localhost:8080/",
          "height": 426
        }
      },
      "outputs": [
        {
          "output_type": "stream",
          "name": "stdout",
          "text": [
            "Looking in indexes: https://pypi.org/simple, https://us-python.pkg.dev/colab-wheels/public/simple/\n",
            "Collecting cffi==1.15.0\n",
            "  Downloading cffi-1.15.0-cp310-cp310-manylinux_2_12_x86_64.manylinux2010_x86_64.whl (446 kB)\n",
            "\u001b[2K     \u001b[90m━━━━━━━━━━━━━━━━━━━━━━━━━━━━━━━━━━━━━━\u001b[0m \u001b[32m446.3/446.3 kB\u001b[0m \u001b[31m16.3 MB/s\u001b[0m eta \u001b[36m0:00:00\u001b[0m\n",
            "\u001b[?25hRequirement already satisfied: pycparser in /usr/local/lib/python3.10/dist-packages (from cffi==1.15.0) (2.21)\n",
            "Installing collected packages: cffi\n",
            "  Attempting uninstall: cffi\n",
            "    Found existing installation: cffi 1.15.1\n",
            "    Uninstalling cffi-1.15.1:\n",
            "      Successfully uninstalled cffi-1.15.1\n",
            "Successfully installed cffi-1.15.0\n"
          ]
        },
        {
          "output_type": "display_data",
          "data": {
            "application/vnd.colab-display-data+json": {
              "pip_warning": {
                "packages": [
                  "cffi"
                ]
              }
            }
          },
          "metadata": {}
        },
        {
          "output_type": "stream",
          "name": "stdout",
          "text": [
            "Looking in indexes: https://pypi.org/simple, https://us-python.pkg.dev/colab-wheels/public/simple/\n",
            "Collecting mip\n",
            "  Downloading mip-1.15.0-py3-none-any.whl (15.3 MB)\n",
            "\u001b[2K     \u001b[90m━━━━━━━━━━━━━━━━━━━━━━━━━━━━━━━━━━━━━━━━\u001b[0m \u001b[32m15.3/15.3 MB\u001b[0m \u001b[31m81.6 MB/s\u001b[0m eta \u001b[36m0:00:00\u001b[0m\n",
            "\u001b[?25hRequirement already satisfied: cffi==1.15.* in /usr/local/lib/python3.10/dist-packages (from mip) (1.15.0)\n",
            "Requirement already satisfied: pycparser in /usr/local/lib/python3.10/dist-packages (from cffi==1.15.*->mip) (2.21)\n",
            "Installing collected packages: mip\n",
            "Successfully installed mip-1.15.0\n"
          ]
        }
      ],
      "source": [
        "# When using Colab, make sure you run this instruction beforehand\n",
        "!pip install --upgrade cffi==1.15.0\n",
        "import importlib\n",
        "import cffi\n",
        "importlib.reload(cffi)\n",
        "!pip install mip"
      ]
    },
    {
      "cell_type": "markdown",
      "metadata": {
        "id": "TZhNhdatf5-T"
      },
      "source": [
        "## Solution\n",
        "\n",
        "Task 1: __Determine the amount of perfume to produce for each type in order to maximize the total revenue.__\n",
        "\n",
        "We must create an optimization problem for this purpose. First, define sets and parameters:\n",
        "\n",
        "* Set $P = \\{1,2,3,4\\}$;\n",
        "* Set $I = \\{1,2,3,4,5\\}$;\n",
        "* Retail price $c = (300,255,260,390)^\\top$;\n",
        "* Availability $b = (30,400,90,450,70)^\\top$;\n",
        "* Composition $A = \\left(\n",
        "\\begin{array}{rrrrr}\n",
        "0.01 & 0.05 & 0.07 & 0.04\\\\\n",
        "0.34 & 0.45 & 0.36 & 0.51\\\\\n",
        "0.08 & 0.06 & 0.12 & 0.12\\\\\n",
        "0.55 & 0.35 & 0.29 & 0.32\\\\\n",
        "0.02 & 0.09 & 0.16 & 0.01\\\\\n",
        "\\end{array}\n",
        "\\right)$\n",
        "\n",
        "There is only one class of variables, $x_i$ for each $i\\in P$, i.e. one nonnegative variable for each type of perfume. The problem is then as follows:\n",
        "\n",
        "$$\n",
        "\\begin{array}{lrrrrrr}\n",
        "\\max          & 300 x_1 &+  255 x_2 &+  260 x_3  &+ 390 x_4\\\\\n",
        "\\textrm{s.t.} &0.01 x_1 &+ 0.05 x_2 &+ 0.07 x_3 &+ 0.04 x_4 &\\le & 30\\\\\n",
        "              &0.34 x_1 &+ 0.45 x_2 &+ 0.36 x_3 &+ 0.51 x_4 &\\le &400\\\\\n",
        "              &0.08 x_1 &+ 0.06 x_2 &+ 0.12 x_3 &+ 0.12 x_4 &\\le & 90\\\\\n",
        "              &0.55 x_1 &+ 0.35 x_2 &+ 0.29 x_3 &+ 0.32 x_4 &\\le &450\\\\\n",
        "              &0.02 x_1 &+ 0.09 x_2 &+ 0.16 x_3 &+ 0.01 x_4 &\\le & 70\\\\\n",
        "              &x_1, &x_2, &x_3, &x_4 &\\ge& 0,\n",
        "\\end{array}\n",
        "$$\n",
        "\n",
        "or, more concisely,\n",
        "\n",
        "$$\n",
        "\\begin{array}{ll}\n",
        "\\max& c^\\top x\\\\\n",
        "\\textrm{s.t.} & Ax \\le b\\\\\n",
        "              & x \\ge 0.\n",
        "\\end{array}\n",
        "$$\n",
        "\n",
        "We implement it below using Python-MIP.\n",
        "\n",
        "Because we will solve this problem more than once, we create a function that takes $A$, $b$, and $c$ as arguments and returns the optimal solution found, its objective function value, and the model itself."
      ]
    },
    {
      "cell_type": "code",
      "execution_count": 3,
      "metadata": {
        "id": "TIQwXIbof5-U",
        "outputId": "5b3c898e-d5a2-4a55-e2d6-22ef02d3879f",
        "colab": {
          "base_uri": "https://localhost:8080/"
        }
      },
      "outputs": [
        {
          "output_type": "stream",
          "name": "stdout",
          "text": [
            "Solution: [573.115003808073, 89.74358974359002, 0.0, 323.0515359228229]\n",
            "Objective:  320809.22\n"
          ]
        }
      ],
      "source": [
        "import mip\n",
        "\n",
        "c = [300, 255, 260, 390]\n",
        "b = [30, 400, 90, 450, 70]\n",
        "\n",
        "A = \\\n",
        "[[0.01, 0.05, 0.07, 0.04],\n",
        " [0.34, 0.45, 0.36, 0.51],\n",
        " [0.08, 0.06, 0.12, 0.12],\n",
        " [0.55, 0.35, 0.29, 0.32],\n",
        " [0.02, 0.09, 0.16, 0.01]]\n",
        "\n",
        "def solve_productmix(A, b, c):\n",
        "    \"\"\"\n",
        "    Solve the problem max{cx: Ax <= b, x >= 0} with A, b, c passed as arguments\n",
        "    \"\"\"\n",
        "\n",
        "    n = len(c)\n",
        "    k = len(b)\n",
        "\n",
        "    # create model (TODO)\n",
        "    m = mip.Model()\n",
        "    \n",
        "    # add variables (TODO)\n",
        "    x = [ m.add_var() for j in range(n) ]\n",
        "\n",
        "    # One constraint per ingredient (TODO)\n",
        "    for i in range(k):\n",
        "        m.add_constr(mip.xsum([A[i][j] * x[j] for j in range(n)]) <= b[i])\n",
        "    \n",
        "    # Objective function is a weighted sum of all x (TODO)\n",
        "    m.objective = mip.maximize(mip.xsum([c[j] * x[j] for j in range(n)]))\n",
        "    # Solve\n",
        "    m.optimize()\n",
        "\n",
        "    # Return a tuple containing model, solution, and objective value\n",
        "    return (m, [x[j].x for j in range(n)], m.objective_value)\n",
        "\n",
        "\n",
        "# Use \"_\" because we don't care about the model in this call\n",
        "_, solution, objective = solve_productmix(A,b,c)\n",
        "\n",
        "print(\"Solution:\", solution)\n",
        "print(\"Objective: {0:10.2f}\".format(objective))"
      ]
    },
    {
      "cell_type": "markdown",
      "metadata": {
        "id": "e_Hkd7Nif5-V"
      },
      "source": [
        "Task 2: __What could allow us to increase the total profit without changing the retail price $c_p$ and the composition $a_{ip}$?__\n",
        "\n",
        "If the retail price and the composition cannot change, we can only modify the availability. For example, by increasing all values of $b$ by 10%, we can easily increase the revenue by the same percentage:"
      ]
    },
    {
      "cell_type": "code",
      "execution_count": 6,
      "metadata": {
        "id": "bQYlkIIMf5-V",
        "outputId": "c2933ec0-0c2c-47fd-af68-3e1824dbb09d",
        "colab": {
          "base_uri": "https://localhost:8080/"
        }
      },
      "outputs": [
        {
          "output_type": "stream",
          "name": "stdout",
          "text": [
            "Solution: [630.4265041888804, 98.71794871794896, 0.0, 355.3566895151053]\n",
            "Objective: 352890.1370906322, increase:  10.00%\n"
          ]
        }
      ],
      "source": [
        "# Create b2 that is 1.1 times b (TODO)\n",
        "I = [0,1,2,3,4]\n",
        "\n",
        "b2 = [b[i]*1.1 for i in I]\n",
        "\n",
        "_, solution2, objective2 = solve_productmix(A,b2,c)\n",
        "\n",
        "print(\"Solution:\", solution2)\n",
        "print(f\"Objective: {objective2}, increase: {((objective2 - objective) / objective) * 100: 6.2f}%\")"
      ]
    },
    {
      "cell_type": "markdown",
      "metadata": {
        "id": "zQwrMv_Ef5-W"
      },
      "source": [
        "Task 3: __Find which constraint is the most restrictive by changing the input parameters $b_i$ one by one.__\n",
        "\n",
        "We can loop over each ingredient and solve a problem where one of the components is increased by 0.1. This will tell us which constraint could be relaxed to increase the total revenue, and possibly which one yields the greatest increase."
      ]
    },
    {
      "cell_type": "code",
      "execution_count": 7,
      "metadata": {
        "id": "8ZaXXhwGf5-W",
        "outputId": "43604836-11d3-44c8-9472-648d7cd4dd77",
        "colab": {
          "base_uri": "https://localhost:8080/"
        }
      },
      "outputs": [
        {
          "output_type": "stream",
          "name": "stdout",
          "text": [
            "Objective:  320809.22, Increase:     0.00,  0.00%\n",
            "Objective:  320828.41, Increase:    19.19,  0.01%\n",
            "Objective:  321020.96, Increase:   211.75,  0.07%\n",
            "Objective:  320821.10, Increase:    11.88,  0.00%\n",
            "Objective:  320809.22, Increase:     0.00,  0.00%\n"
          ]
        }
      ],
      "source": [
        "for i in I:\n",
        "    b3 = b[:]    # (TODO) Use [:] to make a copy of b, as otherwise modifying b3 would change b as well\n",
        "    b3[i] += 0.1 # (TODO) Make a tiny change to the right-hand side\n",
        "    # (TODO) solve problem with new right-hand side vector\n",
        "    _, solution3, obj = solve_productmix(A,b3,c)\n",
        "\n",
        "    print(f\"Objective: {obj:10.2f}, Increase: {obj - objective:8.2f}, {(obj - objective)/objective * 100:5.2f}%\")"
      ]
    },
    {
      "cell_type": "markdown",
      "metadata": {
        "id": "4EJUvxznf5-W"
      },
      "source": [
        "However, there is no need to solve as many LPs as the constraints. This information is returned back to us with the __dual variables__ of the original problem. These give the unitary change in objective function due to a change in the right-hand side in each constraint."
      ]
    },
    {
      "cell_type": "code",
      "execution_count": 8,
      "metadata": {
        "id": "I1Zgw3_Hf5-X",
        "outputId": "618a3ad1-8a73-45a4-d154-76faf9a20e9a",
        "colab": {
          "base_uri": "https://localhost:8080/"
        }
      },
      "outputs": [
        {
          "output_type": "stream",
          "name": "stdout",
          "text": [
            "Dual values: [-0.0, 191.92688499619217, 2117.479055597866, 118.81188118811873, -0.0]\n"
          ]
        }
      ],
      "source": [
        "m, sol, obj = solve_productmix(A,b,c)\n",
        "# Use mip documentation at https://python-mip.readthedocs.io/en/latest/classes.html\n",
        "# to find out how to get the dual variables of the constraints (and print them)\n",
        "print(\"Dual values:\", [con.pi for con in m.constrs])"
      ]
    },
    {
      "cell_type": "markdown",
      "metadata": {
        "id": "I0plFdS5f5-X"
      },
      "source": [
        "Task 4: __Are all perfumes produced? If any of them is not produced, can we increase its retail price so that it is worth to produce it? By how much?__\n",
        "\n",
        "In the original solution, perfume 3 is not produced. Its retail price $c_3$, which is also its objective function coefficient, is 260. Let's try running a loop where we increase $c_3$ by 5 until $x_3>0$ in the optimal solution."
      ]
    },
    {
      "cell_type": "code",
      "execution_count": 9,
      "metadata": {
        "id": "7f5cTmMPf5-Y",
        "outputId": "464e2b58-aea0-4335-f43d-2685d5951fdc",
        "colab": {
          "base_uri": "https://localhost:8080/"
        }
      },
      "outputs": [
        {
          "output_type": "stream",
          "name": "stdout",
          "text": [
            "With c_3 = 265: produce 0.0 liters of 3\n",
            "With c_3 = 270: produce 0.0 liters of 3\n",
            "With c_3 = 275: produce 0.0 liters of 3\n",
            "With c_3 = 280: produce 0.0 liters of 3\n",
            "With c_3 = 285: produce 0.0 liters of 3\n",
            "With c_3 = 290: produce 0.0 liters of 3\n",
            "With c_3 = 295: produce 0.0 liters of 3\n",
            "With c_3 = 300: produce 0.0 liters of 3\n",
            "With c_3 = 305: produce 0.0 liters of 3\n",
            "With c_3 = 310: produce 0.0 liters of 3\n",
            "With c_3 = 315: produce 0.0 liters of 3\n",
            "With c_3 = 320: produce 0.0 liters of 3\n",
            "With c_3 = 325: produce 0.0 liters of 3\n",
            "With c_3 = 330: produce 0.0 liters of 3\n",
            "With c_3 = 335: produce 0.0 liters of 3\n",
            "With c_3 = 340: produce 0.0 liters of 3\n",
            "With c_3 = 345: produce 0.0 liters of 3\n",
            "With c_3 = 350: produce 0.0 liters of 3\n",
            "With c_3 = 355: produce 0.0 liters of 3\n",
            "With c_3 = 360: produce 116.60624892111176 liters of 3\n",
            "We need to set the price c_3 to 360\n"
          ]
        }
      ],
      "source": [
        "c_new = c[:]  # Create a new list as a copy of c to use as objective function value below\n",
        "sol = solution[:]  # Copy sol as well\n",
        "\n",
        "while sol[2] <= 1e-5:  # Sol[2] is x_3 (remember that Python has 0-based indexing)\n",
        "    c_new[2] += 5  # (TODO) increase by 5 objective function coefficient of item 3 (index 2) \n",
        "    m2, sol, obj2 = solve_productmix(A,b,c_new)  # (TODO) solve problem with new objective function\n",
        "    print(f\"With c_3 = {c_new[2]}: produce {sol[2]} liters of 3\")\n",
        "\n",
        "print (f\"We need to set the price c_3 to {c_new[2]}\")"
      ]
    },
    {
      "cell_type": "markdown",
      "metadata": {
        "id": "h3TIVcOWf5-Y"
      },
      "source": [
        "Again, we don't need to solve that many problems. All we need is the __reduced cost__ of $x_3$."
      ]
    },
    {
      "cell_type": "code",
      "execution_count": 10,
      "metadata": {
        "id": "5_iv3627f5-Z",
        "outputId": "e6486b95-00f3-44b9-b18a-cf97d413faba",
        "colab": {
          "base_uri": "https://localhost:8080/"
        }
      },
      "outputs": [
        {
          "output_type": "stream",
          "name": "stdout",
          "text": [
            "-97.64661081492756\n"
          ]
        }
      ],
      "source": [
        "# Use mip documentation at https://python-mip.readthedocs.io/en/latest/classes.html\n",
        "# to find out how to get the reduced costs of the variable x_3 (and print it)\n",
        "print(m.vars[2].rc)"
      ]
    },
    {
      "cell_type": "markdown",
      "metadata": {
        "id": "r8ms3q-of5-Z"
      },
      "source": [
        "Notice anything? If we add 97.6466 to the original retail price $c_3$, we get $260 + 97.6466 = 357.6466$, which is between 355 and 360. Let's make a fine-grained comparison between two very close values of $c_3$: one at $260 + 97.64 = 357.64$ and another one at $260 + 97.65 = 357.65$. The prediction is that the first will give a value of zero for $x_3$, unlike the second."
      ]
    },
    {
      "cell_type": "code",
      "execution_count": 11,
      "metadata": {
        "id": "7Jj7mwhif5-a",
        "outputId": "12294e15-7835-44e9-e153-5c78456a463c",
        "colab": {
          "base_uri": "https://localhost:8080/"
        }
      },
      "outputs": [
        {
          "output_type": "stream",
          "name": "stdout",
          "text": [
            "before threshold: x_3 = 0.0\n",
            "after threshold: x_3 = 116.60624892111176\n"
          ]
        }
      ],
      "source": [
        "c_test = c[:]\n",
        "\n",
        "c_test[2] = c[2] + 97.64\n",
        "_, sol, obj = solve_productmix(A,b,c_test)\n",
        "print(f\"before threshold: x_3 = {sol[2]}\")\n",
        "\n",
        "c_test[2] = c[2] + 97.65\n",
        "_, sol, obj = solve_productmix(A,b,c_test)\n",
        "print(f\"after threshold: x_3 = {sol[2]}\")"
      ]
    },
    {
      "cell_type": "code",
      "source": [],
      "metadata": {
        "id": "-LR8FPCgBP3f"
      },
      "execution_count": null,
      "outputs": []
    }
  ],
  "metadata": {
    "kernelspec": {
      "display_name": "Python 3.10.8 64-bit",
      "language": "python",
      "name": "python3"
    },
    "language_info": {
      "codemirror_mode": {
        "name": "ipython",
        "version": 3
      },
      "file_extension": ".py",
      "mimetype": "text/x-python",
      "name": "python",
      "nbconvert_exporter": "python",
      "pygments_lexer": "ipython3",
      "version": "3.10.8"
    },
    "vscode": {
      "interpreter": {
        "hash": "e7370f93d1d0cde622a1f8e1c04877d8463912d04d973331ad4851f04de6915a"
      }
    },
    "colab": {
      "provenance": [],
      "include_colab_link": true
    }
  },
  "nbformat": 4,
  "nbformat_minor": 0
}